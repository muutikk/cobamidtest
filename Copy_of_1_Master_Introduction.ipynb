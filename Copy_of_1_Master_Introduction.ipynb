{
  "nbformat": 4,
  "nbformat_minor": 0,
  "metadata": {
    "colab": {
      "provenance": [],
      "toc_visible": true
    },
    "kernelspec": {
      "name": "python3",
      "display_name": "Python 3"
    },
    "language_info": {
      "name": "python"
    }
  },
  "cells": [
    {
      "cell_type": "markdown",
      "source": [
        "# Introduction to Python\n",
        "\n",
        "**Covered Topics**\n",
        "- Basic Syntax in Python\n",
        "- Data Structure in Python"
      ],
      "metadata": {
        "id": "yy5Pw1g4Qy3a"
      }
    },
    {
      "cell_type": "markdown",
      "source": [
        "# 1. Basic Syntax"
      ],
      "metadata": {
        "id": "1rOHPkOKjTUJ"
      }
    },
    {
      "cell_type": "code",
      "source": [
        "# Variable Assignment\n",
        "nama = \"Luhut\"\n",
        "umur = \"20\"\n",
        "\n",
        "nama"
      ],
      "metadata": {
        "colab": {
          "base_uri": "https://localhost:8080/",
          "height": 35
        },
        "id": "W5Ip0IDYqGkw",
        "outputId": "5f7cec01-001b-4170-d4e6-8b5e564b7b79"
      },
      "execution_count": null,
      "outputs": [
        {
          "output_type": "execute_result",
          "data": {
            "text/plain": [
              "'Luhut'"
            ],
            "application/vnd.google.colaboratory.intrinsic+json": {
              "type": "string"
            }
          },
          "metadata": {},
          "execution_count": 1
        }
      ]
    },
    {
      "cell_type": "code",
      "source": [
        "# Print Function\n",
        "print(nama)"
      ],
      "metadata": {
        "colab": {
          "base_uri": "https://localhost:8080/"
        },
        "id": "iUDATfecqKoW",
        "outputId": "f4b945c8-f0f0-4be3-b304-38378ad2d9a2"
      },
      "execution_count": null,
      "outputs": [
        {
          "output_type": "stream",
          "name": "stdout",
          "text": [
            "Luhut\n"
          ]
        }
      ]
    },
    {
      "cell_type": "code",
      "source": [
        "# concat string\n",
        "print(\"Hai, nama saya\",nama,\", umur saya \",umur)\n",
        "\n",
        "print(\"Hai, nama saya Luhut, umur saya 20\")"
      ],
      "metadata": {
        "colab": {
          "base_uri": "https://localhost:8080/"
        },
        "id": "G7-78_R4qHIs",
        "outputId": "14d0ede1-8512-4273-a757-7e92601c89df"
      },
      "execution_count": null,
      "outputs": [
        {
          "output_type": "stream",
          "name": "stdout",
          "text": [
            "Hai, nama saya Luhut , umur saya  20\n",
            "Hai, nama saya Luhut, umur saya 20\n"
          ]
        }
      ]
    },
    {
      "cell_type": "markdown",
      "source": [
        "## Integer & Float\n",
        "\n",
        "In Python, integers are zero, positive or negative whole numbers without a fractional part and having unlimited precision\n",
        "\n",
        "\n",
        "A floating point value is represented either as whole plus fractional digits (like decimal values) or as a mantissa plus an exponent.\n",
        "\n",
        "- penjumlahan\n",
        "- pengurangan\n",
        "- perkalian\n",
        "- pembagian\n",
        "- modulo\n",
        "- exponent\n",
        "\n",
        "Belajar `math` dan `random`"
      ],
      "metadata": {
        "id": "6Q5_OqgTiMvR"
      }
    },
    {
      "cell_type": "code",
      "source": [
        "a = 3\n",
        "type(a)"
      ],
      "metadata": {
        "colab": {
          "base_uri": "https://localhost:8080/"
        },
        "id": "O2XNpbVhiUZ4",
        "outputId": "4da7fb7c-2492-462c-f610-8364f2e7f1cc"
      },
      "execution_count": null,
      "outputs": [
        {
          "output_type": "execute_result",
          "data": {
            "text/plain": [
              "int"
            ]
          },
          "metadata": {},
          "execution_count": 1
        }
      ]
    },
    {
      "cell_type": "code",
      "source": [
        "b = 3.2\n",
        "type(b)"
      ],
      "metadata": {
        "colab": {
          "base_uri": "https://localhost:8080/"
        },
        "id": "TQ2_glxniZGk",
        "outputId": "56e5da14-a5f6-4c9a-becc-c76c830ddd8a"
      },
      "execution_count": null,
      "outputs": [
        {
          "output_type": "execute_result",
          "data": {
            "text/plain": [
              "float"
            ]
          },
          "metadata": {},
          "execution_count": 2
        }
      ]
    },
    {
      "cell_type": "code",
      "source": [
        "a + b"
      ],
      "metadata": {
        "colab": {
          "base_uri": "https://localhost:8080/"
        },
        "id": "4-wv1ErLibI1",
        "outputId": "deba9e04-3665-47d9-8d11-9b01d28dada6"
      },
      "execution_count": null,
      "outputs": [
        {
          "output_type": "execute_result",
          "data": {
            "text/plain": [
              "6.2"
            ]
          },
          "metadata": {},
          "execution_count": 3
        }
      ]
    },
    {
      "cell_type": "code",
      "source": [
        "a - b"
      ],
      "metadata": {
        "colab": {
          "base_uri": "https://localhost:8080/"
        },
        "id": "LAH7kJ66ikz3",
        "outputId": "2a9c6016-2a8e-4967-d901-89d12b6753ca"
      },
      "execution_count": null,
      "outputs": [
        {
          "output_type": "execute_result",
          "data": {
            "text/plain": [
              "-0.20000000000000018"
            ]
          },
          "metadata": {},
          "execution_count": 4
        }
      ]
    },
    {
      "cell_type": "code",
      "source": [
        "a * b"
      ],
      "metadata": {
        "colab": {
          "base_uri": "https://localhost:8080/"
        },
        "id": "eOcR8x8LimR2",
        "outputId": "922f8647-56d8-42f2-c238-c827386c3849"
      },
      "execution_count": null,
      "outputs": [
        {
          "output_type": "execute_result",
          "data": {
            "text/plain": [
              "9.600000000000001"
            ]
          },
          "metadata": {},
          "execution_count": 5
        }
      ]
    },
    {
      "cell_type": "code",
      "source": [
        "a = 102\n",
        "b = 3\n",
        "a / b"
      ],
      "metadata": {
        "colab": {
          "base_uri": "https://localhost:8080/"
        },
        "id": "RXnMJL0Hinfm",
        "outputId": "ee2f0e9a-3f55-47ba-f2fd-105b6a385742"
      },
      "execution_count": null,
      "outputs": [
        {
          "output_type": "execute_result",
          "data": {
            "text/plain": [
              "34.0"
            ]
          },
          "metadata": {},
          "execution_count": 6
        }
      ]
    },
    {
      "cell_type": "code",
      "source": [
        "a ** b"
      ],
      "metadata": {
        "colab": {
          "base_uri": "https://localhost:8080/"
        },
        "id": "OANS-J4qipLH",
        "outputId": "2ab8eda8-f3a3-43e9-bc5d-b63fd17c7533"
      },
      "execution_count": null,
      "outputs": [
        {
          "output_type": "execute_result",
          "data": {
            "text/plain": [
              "1061208"
            ]
          },
          "metadata": {},
          "execution_count": 7
        }
      ]
    },
    {
      "cell_type": "code",
      "source": [
        "a = 103\n",
        "b = 3\n",
        "type(a / b)"
      ],
      "metadata": {
        "colab": {
          "base_uri": "https://localhost:8080/"
        },
        "id": "8-61bBtxirAe",
        "outputId": "481eb070-a85a-401d-f1a4-9e4f85aa546a"
      },
      "execution_count": null,
      "outputs": [
        {
          "output_type": "execute_result",
          "data": {
            "text/plain": [
              "float"
            ]
          },
          "metadata": {},
          "execution_count": 8
        }
      ]
    },
    {
      "cell_type": "markdown",
      "source": [
        "## Challenge #1\n",
        "Hitung Operasi Matematika berikut\n",
        "\n",
        "1. Buat rumus luas lingkaran, jika diketahui r saja\n",
        "rumus: $Luas Lingkaran = \\pi r^2$\n",
        "\n",
        "2. Dalam sebuah kelas, terdapat siswa pria dan wanita. Namun untuk menjaga kelas tetap beragam maka keragaman kelas  akan diukur keragaman tersebut dapat diukur dengan :\n",
        "\n",
        "  **Gini Index**\n",
        "\n",
        "  pria = diketahui\n",
        "\n",
        "  wanita = diketahui\n",
        "\n",
        "  $p$ = wanita / (wanita + pria)\n",
        "\n",
        "  $ Gini = 1 - p^2 - (1-p)^2 $ (Diketahui $p$)\n",
        "\n",
        "3. Salah satu faktor yang menyebabkan turunnya harga mobil adalah umur dari mobil tersebut. Buatlah sebuah persamaan regresi yang dapat memprediksi harga dari mobil tersebut. Rumus dari persamaan regresi adalah\n",
        "\n",
        "  umur mobil = diketahui\n",
        "\n",
        "  $ harga \\: mobil = 100 + 3 * umur\\:mobil $"
      ],
      "metadata": {
        "id": "giBaE17pg0gV"
      }
    },
    {
      "cell_type": "markdown",
      "source": [
        "## Boolean\n",
        "\n",
        "In programming you often need to know if an expression is True or False.\n",
        "\n",
        "You can evaluate any expression in Python, and get one of two answers, True or False.\n",
        "\n",
        "- Boolean Variable\n",
        "- Operator Make Boolean Data `<`,`>`,`<=`,`>=`,`==`\n",
        "- Operator in Boolean Data `and` , `or`"
      ],
      "metadata": {
        "id": "6zukqV3Aizd1"
      }
    },
    {
      "cell_type": "code",
      "source": [
        "a = True\n",
        "b = False\n",
        "\n",
        "a and b"
      ],
      "metadata": {
        "colab": {
          "base_uri": "https://localhost:8080/"
        },
        "id": "8HZFFq0Ni1Rv",
        "outputId": "8689ccf7-e57d-4aae-8262-b8241f73976f"
      },
      "execution_count": null,
      "outputs": [
        {
          "output_type": "execute_result",
          "data": {
            "text/plain": [
              "False"
            ]
          },
          "metadata": {},
          "execution_count": 9
        }
      ]
    },
    {
      "cell_type": "code",
      "source": [
        "a = 30\n",
        "b = 10\n",
        "\n",
        "a > b"
      ],
      "metadata": {
        "colab": {
          "base_uri": "https://localhost:8080/"
        },
        "id": "ma1vVh-Xi3nf",
        "outputId": "ba2ea877-9a70-48d3-9012-aa1827291f6d"
      },
      "execution_count": null,
      "outputs": [
        {
          "output_type": "execute_result",
          "data": {
            "text/plain": [
              "True"
            ]
          },
          "metadata": {},
          "execution_count": 10
        }
      ]
    },
    {
      "cell_type": "code",
      "source": [
        "a = 12\n",
        "b = 10\n",
        "\n",
        "a == b"
      ],
      "metadata": {
        "colab": {
          "base_uri": "https://localhost:8080/"
        },
        "id": "ofeHR71hi5ge",
        "outputId": "0c294a69-8e71-4503-b9b7-275bea3e827b"
      },
      "execution_count": null,
      "outputs": [
        {
          "output_type": "execute_result",
          "data": {
            "text/plain": [
              "False"
            ]
          },
          "metadata": {},
          "execution_count": 11
        }
      ]
    },
    {
      "cell_type": "code",
      "source": [
        "a = 'jagung'\n",
        "b = 'apel'\n",
        "\n",
        "a == b"
      ],
      "metadata": {
        "colab": {
          "base_uri": "https://localhost:8080/"
        },
        "id": "3ALzFtodi7hM",
        "outputId": "a09375c7-574b-4391-c0fc-22a5c4ff3b46"
      },
      "execution_count": null,
      "outputs": [
        {
          "output_type": "execute_result",
          "data": {
            "text/plain": [
              "False"
            ]
          },
          "metadata": {},
          "execution_count": 12
        }
      ]
    },
    {
      "cell_type": "code",
      "source": [
        "a = 10\n",
        "b = 11\n",
        "c = 12\n",
        "\n",
        "(a >= b) or (b <= c)"
      ],
      "metadata": {
        "colab": {
          "base_uri": "https://localhost:8080/"
        },
        "id": "sM0J5d6fi9jD",
        "outputId": "b98ab0d0-fdcf-40c6-d03e-5ec5c3e8a14c"
      },
      "execution_count": null,
      "outputs": [
        {
          "output_type": "execute_result",
          "data": {
            "text/plain": [
              "True"
            ]
          },
          "metadata": {},
          "execution_count": 13
        }
      ]
    },
    {
      "cell_type": "code",
      "source": [
        " (b <= c)"
      ],
      "metadata": {
        "colab": {
          "base_uri": "https://localhost:8080/"
        },
        "id": "VCgS2jEFi_k6",
        "outputId": "93c1d6d3-505b-4e27-c1c0-7a15a8f28640"
      },
      "execution_count": null,
      "outputs": [
        {
          "output_type": "execute_result",
          "data": {
            "text/plain": [
              "True"
            ]
          },
          "metadata": {},
          "execution_count": 14
        }
      ]
    },
    {
      "cell_type": "code",
      "source": [
        "(a >= b)"
      ],
      "metadata": {
        "colab": {
          "base_uri": "https://localhost:8080/"
        },
        "id": "Zm3agchpjBDi",
        "outputId": "d63e4e4a-7005-47aa-8613-c004a94201cc"
      },
      "execution_count": null,
      "outputs": [
        {
          "output_type": "execute_result",
          "data": {
            "text/plain": [
              "False"
            ]
          },
          "metadata": {},
          "execution_count": 15
        }
      ]
    },
    {
      "cell_type": "markdown",
      "source": [
        "## Conditional Statement - If Else"
      ],
      "metadata": {
        "id": "wqLBC1WtjCzY"
      }
    },
    {
      "cell_type": "code",
      "source": [
        "# Conditional Statement with Multiple IF\n",
        "\n",
        "nilai = 65\n",
        "\n",
        "if nilai >= 75:\n",
        "  hasil = \"tidak lulus\"\n",
        "elif nilai >= 50:\n",
        "  hasil = \"lulus\"\n",
        "else:\n",
        "  hasil = \"remedial\"\n",
        "\n",
        "hasil"
      ],
      "metadata": {
        "colab": {
          "base_uri": "https://localhost:8080/",
          "height": 35
        },
        "id": "P0NJw1srQm-V",
        "outputId": "b578150c-43bf-4330-80a2-7128e4aa8327"
      },
      "execution_count": null,
      "outputs": [
        {
          "output_type": "execute_result",
          "data": {
            "text/plain": [
              "'lulus'"
            ],
            "application/vnd.google.colaboratory.intrinsic+json": {
              "type": "string"
            }
          },
          "metadata": {},
          "execution_count": 4
        }
      ]
    },
    {
      "cell_type": "code",
      "source": [
        "# Conditional Statement with Nested IF\n",
        "num = 15\n",
        "if num >= 0:\n",
        "  print(\"ini test\")\n",
        "  if num == 0:\n",
        "      print(\"nol\")\n",
        "  else:\n",
        "      print(\"Positif\")\n",
        "else:\n",
        "    print(\"Negatif\")"
      ],
      "metadata": {
        "colab": {
          "base_uri": "https://localhost:8080/"
        },
        "id": "qtuxbMH1QoG9",
        "outputId": "f2a42aba-28b0-494d-ef96-8037600153a0"
      },
      "execution_count": null,
      "outputs": [
        {
          "output_type": "stream",
          "name": "stdout",
          "text": [
            "ini test\n",
            "Positif\n"
          ]
        }
      ]
    },
    {
      "cell_type": "code",
      "source": [
        "for i in range(6):\n",
        "  print(f\"i sekarang adalah {i}\")"
      ],
      "metadata": {
        "colab": {
          "base_uri": "https://localhost:8080/"
        },
        "id": "W6dCLX88QoOx",
        "outputId": "837431e9-69a1-486d-c204-495244ca205a"
      },
      "execution_count": null,
      "outputs": [
        {
          "output_type": "stream",
          "name": "stdout",
          "text": [
            "i sekarang adalah 0\n",
            "i sekarang adalah 1\n",
            "i sekarang adalah 2\n",
            "i sekarang adalah 3\n",
            "i sekarang adalah 4\n",
            "i sekarang adalah 5\n"
          ]
        }
      ]
    },
    {
      "cell_type": "code",
      "source": [
        "kumpulan_angka = list(range(6))\n",
        "print(kumpulan_angka)"
      ],
      "metadata": {
        "colab": {
          "base_uri": "https://localhost:8080/"
        },
        "id": "ibvAc-2KQoRW",
        "outputId": "be80d173-0de8-4a8e-f4a8-6818e8d092f9"
      },
      "execution_count": null,
      "outputs": [
        {
          "output_type": "stream",
          "name": "stdout",
          "text": [
            "[0, 1, 2, 3, 4, 5]\n"
          ]
        }
      ]
    },
    {
      "cell_type": "code",
      "source": [
        "for i in range(6):\n",
        "  print(f\"i sekarang adalah {i}\")"
      ],
      "metadata": {
        "colab": {
          "base_uri": "https://localhost:8080/"
        },
        "id": "hUEdYOOfQoTt",
        "outputId": "c8f13e01-3b07-4404-c90c-9d8c3f09ee09"
      },
      "execution_count": null,
      "outputs": [
        {
          "output_type": "stream",
          "name": "stdout",
          "text": [
            "i sekarang adalah 0\n",
            "i sekarang adalah 1\n",
            "i sekarang adalah 2\n",
            "i sekarang adalah 3\n",
            "i sekarang adalah 4\n",
            "i sekarang adalah 5\n"
          ]
        }
      ]
    },
    {
      "cell_type": "markdown",
      "source": [
        "# 2. Data Type in Python"
      ],
      "metadata": {
        "id": "kFKeUp91Rc_w"
      }
    },
    {
      "cell_type": "markdown",
      "source": [
        "| Kategori | Tipe | Keterangan | Contoh Kode Python |\n",
        "| ----------- | ----------- | ----------- | ----------- |\n",
        "| Text | str | Menyatakan karakter/kalimat bisa berupa huruf angka, dll (diapit dengan \" atau ') | \"Python Lang\" |\n",
        "| Numeric | int | Menyatakan bilangan bulat | 11 atau 55 |\n",
        "| Numeric | float | Menyatakan bilangan yang mempunyai koma | 3.99 atau 3.24 |\n",
        "| Boolean | bool | Menyatakan benar True atau salah False | True atau False |"
      ],
      "metadata": {
        "id": "DrU4abr1Rb8X"
      }
    },
    {
      "cell_type": "markdown",
      "source": [
        "### String Operations 1\n",
        "\n",
        "| Simbol | Keterangan | Contoh Kode Python |\n",
        "| ----------- | ----------- | ----------- |\n",
        "| a + b | Pertambahan | \"a\" + \"b\" == \"ab\" |\n",
        "| a + b | Pertambahan | \"1\" + \"1\" == \"11\" |\n",
        "| a * b | Perkalian | \"wk\" * 2 == \"wkwk\" |\n",
        "| a[start:end] | Irisan | \"abcd\"[1:3] == \"bc |\n",
        "| a[::-1] | Penulisan dibalik | \"abcd\"[::-1] == \"dcba\" |\n",
        "\n",
        "<center>Penulisan string di python bisa menggunakan '', atau \"\", atau juga \"\"\" \"\"\" untuk teks yang panjang</center>\n"
      ],
      "metadata": {
        "id": "vhy2hRc7Rrvb"
      }
    },
    {
      "cell_type": "code",
      "source": [
        "\"wk\" * 2"
      ],
      "metadata": {
        "colab": {
          "base_uri": "https://localhost:8080/",
          "height": 35
        },
        "id": "JwpeeX6A-3Sh",
        "outputId": "c4814169-9e4a-4375-e4a0-9bbae444eb08"
      },
      "execution_count": null,
      "outputs": [
        {
          "output_type": "execute_result",
          "data": {
            "text/plain": [
              "'wkwk'"
            ],
            "application/vnd.google.colaboratory.intrinsic+json": {
              "type": "string"
            }
          },
          "metadata": {},
          "execution_count": 11
        }
      ]
    },
    {
      "cell_type": "markdown",
      "source": [
        "Tentang Index di String Python\n",
        "\n",
        "| String | b | a | m | b | a | n | g |\n",
        "| -- | -- | -- | -- | -- | -- | -- | -- |\n",
        "| Index | 0 | 1 | 2 | 3 | 4 | 5 | 6 |\n",
        "\n",
        "<p></p>\n",
        "<center>Untuk slicing rumusnya <b>variable</b>[index mulai:index akhir], cara baca <b>index akhir</b> ini selalu dikurangin 1.\n",
        "<p></p>    \n",
        "Misal index mulai 2, index akhir 5, artinya kita ngambil urutan dari 2 sampai sebelum 5, yaitu 4, jadinya kita dapatkan pada index <b>2,3,4</b></center>"
      ],
      "metadata": {
        "id": "yxLOXJgERx3z"
      }
    },
    {
      "cell_type": "code",
      "source": [
        "# Try string slicing operation\n",
        "\n",
        "nama = \"bambang\"\n",
        "# String = b | a | m | b | a | n | g\n",
        "# Index = 0 | 1 | 2 | 3 | 4 | 5 | 6\n",
        "\n",
        "# Start index is 2, end index is 5\n",
        "# Meaning that we take indices 2,3, and 4 (before 5)\n",
        "print(nama[2:5])\n",
        "\n",
        "# Start index is empty, end index is 3\n",
        "# Meaning that we take everything from beginning, ends at 2 (before 3)\n",
        "print(nama[:3])\n",
        "\n",
        "# Start index is 2, end index is empty\n",
        "# Meaning that we start from index 2, and take everything till the end\n",
        "print(nama[2:])"
      ],
      "metadata": {
        "colab": {
          "base_uri": "https://localhost:8080/"
        },
        "id": "CDJrM3caQoWm",
        "outputId": "af11530f-f219-4536-9c3c-bede5d3a224b"
      },
      "execution_count": null,
      "outputs": [
        {
          "output_type": "stream",
          "name": "stdout",
          "text": [
            "mba\n",
            "bam\n",
            "mbang\n"
          ]
        }
      ]
    },
    {
      "cell_type": "markdown",
      "source": [
        "### String Operations 2\n",
        "\n",
        "| Simbol | Keterangan | Contoh Kode Python |\n",
        "| ----------- | ----------- | ----------- |\n",
        "| a.upper() | Konversi menjadi huruf besar | \"saya\".upper() == \"SAYA\"\n",
        "| a.lower() | Konversi menjadi huruf kecil | \"KaMu\".lower() == \"kamu\"\n",
        "| a.isdigit() | Membaca apakah string ini angka atau bukan | \"5\".isdigit() == True\n",
        "| a.replace(before,after) | Mereplace string di variabel A berdasarkan before dan after | \"hai\".replace(\"ha\",\"wk\") == \"wki\"\n",
        "| a.split(b) | Pisahkan variabel A berdasarkan variabel B | \"aku,kamu,kita\".split(\",\") == [\"aku\", \"kamu\", \"kita\"]\n",
        "| sorted(a) | Mengurutkan variabel A secara ascending | sorted([1,5,2]) == [1,2,5] |\n",
        "\n",
        "\n",
        "<p></p>\n",
        "<center><a href=\"https://docs.python.org/3/library/stdtypes.html#string-methods\">\n",
        "    <button>Klik disini untuk String Manipulation Details</button>\n",
        "</a></center>"
      ],
      "metadata": {
        "id": "iuCv5ItpR8lu"
      }
    },
    {
      "cell_type": "code",
      "source": [
        "# Try string operation 2\n",
        "\n",
        "# Mereplace string di variabel A berdasarkan before dan after\n",
        "# Ubah \"Pisang Goreng!\" menjadi \"Hisang Horeng!\"\n",
        "str_val = \"Pisang Goreng!\"\n",
        "str_val = str_val.replace(\"P\", \"H\")\n",
        "str_val = str_val.replace(\"G\", \"H\")\n",
        "print(str_val)"
      ],
      "metadata": {
        "colab": {
          "base_uri": "https://localhost:8080/"
        },
        "id": "LIKhWOmSQoY6",
        "outputId": "811b34cd-25fc-4428-f36d-8de709e86ea6"
      },
      "execution_count": null,
      "outputs": [
        {
          "output_type": "stream",
          "name": "stdout",
          "text": [
            "Hisang Horeng!\n"
          ]
        }
      ]
    },
    {
      "cell_type": "code",
      "source": [
        "str_val = str_val.replace(\"s\", \"h\")\n",
        "str_val = str_val.replace(\"r\", \"h\")\n",
        "print(str_val)"
      ],
      "metadata": {
        "colab": {
          "base_uri": "https://localhost:8080/"
        },
        "id": "aJgGBb37_3Go",
        "outputId": "11bdc496-8d9c-4cdc-ba59-41f812116a80"
      },
      "execution_count": null,
      "outputs": [
        {
          "output_type": "stream",
          "name": "stdout",
          "text": [
            "Hihang Hoheng!\n"
          ]
        }
      ]
    },
    {
      "cell_type": "code",
      "source": [
        "# Split by comma \",\"\n",
        "str_val = \"SPONTAN, UHUY!\"\n",
        "print(str_val.split(\",\"))"
      ],
      "metadata": {
        "colab": {
          "base_uri": "https://localhost:8080/"
        },
        "id": "yALH5zZ5Qoby",
        "outputId": "f873107e-0d39-4aac-927f-efde98d29898"
      },
      "execution_count": null,
      "outputs": [
        {
          "output_type": "stream",
          "name": "stdout",
          "text": [
            "['SPONTAN', ' UHUY!']\n"
          ]
        }
      ]
    },
    {
      "cell_type": "code",
      "source": [
        "# Split by spasi \" \"\n",
        "str_val = \"SPONTAN, UHUY!\"\n",
        "print(str_val.split(\" \"))"
      ],
      "metadata": {
        "colab": {
          "base_uri": "https://localhost:8080/"
        },
        "id": "gzUBiMuaQoeY",
        "outputId": "b5db9dbc-e087-4866-970a-1f766cd51083"
      },
      "execution_count": null,
      "outputs": [
        {
          "output_type": "stream",
          "name": "stdout",
          "text": [
            "['SPONTAN,', 'UHUY!']\n"
          ]
        }
      ]
    },
    {
      "cell_type": "code",
      "source": [
        "str_val = \"SPONTAN, UHUY!\"\n",
        "print(str_val.split(\"U\"))"
      ],
      "metadata": {
        "colab": {
          "base_uri": "https://localhost:8080/"
        },
        "id": "oiZ6a7YQBFYn",
        "outputId": "02dc82e5-3224-4024-f026-a78f475031ea"
      },
      "execution_count": null,
      "outputs": [
        {
          "output_type": "stream",
          "name": "stdout",
          "text": [
            "['SPONTAN, ', 'H', 'Y!']\n"
          ]
        }
      ]
    },
    {
      "cell_type": "markdown",
      "source": [
        "## 3. Data Structure in Python\n",
        "\n",
        "| Kategori | Tipe | Keterangan | Contoh Kode Python |\n",
        "| ----------- | ----------- | ----------- | ----------- |\n",
        "| Sequence | list | Menyatakan beberapa untaian data dalam berbagai tipe data dan isinya bisa diubah-ubah (mutable) | [\"Air\", 21, True] |\n",
        "| Sequence | tuple | Menyatakan beberapa untaian data dalam berbagai tipe data namun isinya tidak bisa diubah-ubah (immutable) | (\"Air\", 21, True) |\n",
        "| Mapping | dict | Menyatakan beberapa untaian data dalam berbagai tipe data dan memiliki key/petujuntuk dalam menyimpan setiap nilai nya | {\"nama\":\"Lutfi\", \"umur\": 28} |\n",
        "| Set | set | Menyatakan beberapa untaian data dalam berbagai tipe data, setiap nilainya bernilai unik, dan tidak berurutan | {\"Jakarta\", \"Bandung\", \"Bekasi\"} |"
      ],
      "metadata": {
        "id": "45g0gZ1tSm7W"
      }
    },
    {
      "cell_type": "markdown",
      "source": [
        "### List in Python\n",
        "\n",
        "Sistem indexing nya sama dengan yang di string, dimulai dari indeks 0, dan bisa diisi oleh tipe data apapun\n",
        "\n",
        "<img src=\"https://pynative.com/wp-content/uploads/2021/03/python-list.jpg\">\n",
        "\n",
        "| Slicing | Makna |\n",
        "| --- | --- |\n",
        "| `[:]` | Mengambil seluruh index, tiada batasan |\n",
        "| `[n:]` | Mengambil dari index ke-n sampai index terakhir |\n",
        "| `[:m]` | Mengambil dari index pertama sampai index ke-m |\n",
        "| `[n:m]` | Mengambil dari index ke-n hingga index ke-m |\n",
        "| `[-1]` | Mengambil index terakhir |\n",
        "| `[:-1]` | Mengambil index dari pertama sampai sebelum terakhir (selain index -1)|\n",
        "| `[-1:]` | Mengambil index dari dari belakang (satu index)|"
      ],
      "metadata": {
        "id": "CK53s5XySqI0"
      }
    },
    {
      "cell_type": "code",
      "source": [
        "# in R we could say this is a 'vector'\n",
        "# ini_vector = c(1,2,3,\"test\",c(4,5,6))\n",
        "\n",
        "# in Python we called it as 'list'\n",
        "# ini_list = [1,2,3,\"test\",[4,5,6]]\n",
        "\n",
        "# First List Operation\n",
        "list_pertama = [1,2,3]\n",
        "\n",
        "print(\"Mengambil value urutan PERTAMA:\", list_pertama[0])\n",
        "print(\"Mengambil value urutan KEDUA:\", list_pertama[1])\n",
        "print(\"Mengambil value urutan KETIGA:\", list_pertama[2])\n",
        "\n",
        "print(\"==== katanya biar ada pembatas diantara kita =====\")\n",
        "\n",
        "# Second List Operation\n",
        "list_kedua = [100,\"Katanya integer aja?\", True, 100.549373]\n",
        "print(\"Saya mau ambil urutan kedua:\", list_kedua[1])\n",
        "print(\"Saya mau ambil urutan terakhir/keempat:\",list_kedua[3])"
      ],
      "metadata": {
        "colab": {
          "base_uri": "https://localhost:8080/"
        },
        "id": "RhxI8MBFQogs",
        "outputId": "e3520541-a516-4bf0-ac78-083780316249"
      },
      "execution_count": null,
      "outputs": [
        {
          "output_type": "stream",
          "name": "stdout",
          "text": [
            "Mengambil value urutan PERTAMA: 1\n",
            "Mengambil value urutan KEDUA: 2\n",
            "Mengambil value urutan KETIGA: 3\n",
            "==== katanya biar ada pembatas diantara kita =====\n",
            "Saya mau ambil urutan kedua: Katanya integer aja?\n",
            "Saya mau ambil urutan terakhir/keempat: 100.549373\n"
          ]
        }
      ]
    },
    {
      "cell_type": "code",
      "source": [
        "# Multiple Index is also allowed inside a list\n",
        "list_multiple = [\"bumi\",\"itu\",\"datar\",[\"bagi\",\"orang\",\"awam\"]]\n",
        "\n",
        "# Get \"orang\"\n",
        "list_multiple[3][1]"
      ],
      "metadata": {
        "colab": {
          "base_uri": "https://localhost:8080/",
          "height": 35
        },
        "id": "wVRdMooTSxU9",
        "outputId": "e873b34f-b19e-42bf-ceb7-09a97983055f"
      },
      "execution_count": null,
      "outputs": [
        {
          "output_type": "execute_result",
          "data": {
            "text/plain": [
              "'orang'"
            ],
            "application/vnd.google.colaboratory.intrinsic+json": {
              "type": "string"
            }
          },
          "metadata": {},
          "execution_count": 19
        }
      ]
    },
    {
      "cell_type": "markdown",
      "source": [
        "### More Common List Functions\n",
        "\n",
        "| Fungsi | Deskripsi | Contoh |\n",
        "| --- | --- | -- |\n",
        "| len(x) | Menghitung jumlah objek didalam list | len([1,2,3]) == 3 |\n",
        "| sum(x) | Menghitung penjumlahan semua objek numerikal didalam list | sum([1,2,3]) == 6 |\n",
        "| x.append(y) | Menambah objek Y pada urutan terakhir kedalam list X | x.append(5) |\n",
        "| x.remove(y) | Menghapus indeks ke-y dalam list X | x.remove(5) |\n",
        "| del x[y] | Menghapus indeks ke-y dalam list X | del x[5] |"
      ],
      "metadata": {
        "id": "dzYjxpZCS_aF"
      }
    },
    {
      "cell_type": "code",
      "source": [
        "abc = \"abc\"\n",
        "cde = 'abc'\n",
        "\n",
        "goat = \"Messi is the greatest of all time\"\n",
        "goat = \"Messi is the 'GOAT'\"\n",
        "goat = 'CR is the \"GOAT\"'"
      ],
      "metadata": {
        "id": "kQ2DXPY1C9df"
      },
      "execution_count": null,
      "outputs": []
    },
    {
      "cell_type": "code",
      "source": [
        "# Common basic function in List\n",
        "listku = [1,2,3,4,5]\n",
        "\n",
        "# Calculate how many objects inside a list\n",
        "print(len(listku)) # length(listku)\n",
        "\n",
        "# Sum all the numerical values inside a list\n",
        "print(sum(listku)) # sum(listku)\n",
        "\n",
        "# Add new value to list\n",
        "listku.append(50) # We try to insert 50\n",
        "print(listku)\n",
        "\n",
        "# Delete an existing value\n",
        "del listku[3] # We try to delete 4\n",
        "print(listku)"
      ],
      "metadata": {
        "colab": {
          "base_uri": "https://localhost:8080/"
        },
        "id": "tPGEZtIaS-s1",
        "outputId": "566eb88d-56e2-47d1-cb8f-547814e21b97"
      },
      "execution_count": null,
      "outputs": [
        {
          "output_type": "stream",
          "name": "stdout",
          "text": [
            "5\n",
            "15\n",
            "[1, 2, 3, 4, 5, 50]\n",
            "[1, 2, 3, 5, 50]\n"
          ]
        }
      ]
    },
    {
      "cell_type": "markdown",
      "source": [
        "## Challenge #2\n",
        "\n",
        "1. Buatkan list 10 nama kota/kabupaten secara acak\n",
        "2. Tampilkan 3 data pertama\n",
        "3. Tampilkan 2 data terakhir\n",
        "4. Tambahkan 1 kota baru\n",
        "5. Urutkan berdasarkan abjad"
      ],
      "metadata": {
        "id": "57cHdRXBhxp4"
      }
    },
    {
      "cell_type": "markdown",
      "source": [
        "### Tuple in Python\n",
        "\n",
        "Sifatnya dengan list, namun bersifat **immutable** alias tidak bisa direplace valuenya dengan value baru, kemudian menggunakan **( )**. Namun, secara processing time lebih cepat daripada list.\n",
        "\n",
        "<img src=\"https://pynative.com/wp-content/uploads/2021/02/python-tuple.jpg\">"
      ],
      "metadata": {
        "id": "ToYIUyBiTOKq"
      }
    },
    {
      "cell_type": "code",
      "source": [
        "tuple_2 = (100,\"Katanya integer aja?\", True, 100.549373, True)\n",
        "print(\"Saya mau ambil urutan kedua:\", tuple_2[1])\n",
        "print(\"Saya mau ambil urutan terakhir/kelima:\",tuple_2[4])"
      ],
      "metadata": {
        "colab": {
          "base_uri": "https://localhost:8080/"
        },
        "id": "iXTwnoOQTSbD",
        "outputId": "7674d845-92f9-465e-ec5b-11c3c82d1b6a"
      },
      "execution_count": null,
      "outputs": [
        {
          "output_type": "stream",
          "name": "stdout",
          "text": [
            "Saya mau ambil urutan kedua: Katanya integer aja?\n",
            "Saya mau ambil urutan terakhir/kelima: True\n"
          ]
        }
      ]
    },
    {
      "cell_type": "markdown",
      "source": [
        "### Set in Python\n",
        "\n",
        "Sifatnya dengan list, namun bersifat **unique** alias value didalam *set* akan bersifat unik/distinct, kemudian menggunakan **{ }**. Apabila digunakan kepada container data type, maka akan mengambil unique value dan sort secara ascending.\n",
        "\n",
        "<img src=\"https://pynative.com/wp-content/uploads/2021/03/python-sets.jpg\">"
      ],
      "metadata": {
        "id": "jWpzbtzuTXIS"
      }
    },
    {
      "cell_type": "code",
      "source": [
        "# Create new set\n",
        "value_set = {5,43,2,1,6,2,3,1,6,3,6}\n",
        "print(value_set)"
      ],
      "metadata": {
        "colab": {
          "base_uri": "https://localhost:8080/"
        },
        "id": "Ws5BgizTTVPz",
        "outputId": "f2556615-5114-4097-d72d-164c58bb1b92"
      },
      "execution_count": null,
      "outputs": [
        {
          "output_type": "stream",
          "name": "stdout",
          "text": [
            "{1, 2, 3, 5, 6, 43}\n"
          ]
        }
      ]
    },
    {
      "cell_type": "code",
      "source": [
        "# \"susilo bambang yudhoyono\" and \"jokowi\" appears 2 times\n",
        "preseiden_era_reformasi = [\"habibi\",\"abdurrahman wahid\",\"megawati\",\"susilo bambang yudhoyono\",\"susilo bambang yudhoyono\",\"jokowi\",\"jokowi\"]\n",
        "\n",
        "# Get unique only and sort in ascending:\n",
        "preseiden_era_reformasi = set(preseiden_era_reformasi)\n",
        "preseiden_era_reformasi"
      ],
      "metadata": {
        "colab": {
          "base_uri": "https://localhost:8080/"
        },
        "id": "fUelbhijTcJL",
        "outputId": "3dcabeb8-2bf8-42a9-ab1b-65ee54008b6f"
      },
      "execution_count": null,
      "outputs": [
        {
          "output_type": "execute_result",
          "data": {
            "text/plain": [
              "{'abdurrahman wahid',\n",
              " 'habibi',\n",
              " 'jokowi',\n",
              " 'megawati',\n",
              " 'susilo bambang yudhoyono'}"
            ]
          },
          "metadata": {},
          "execution_count": 24
        }
      ]
    },
    {
      "cell_type": "code",
      "source": [
        "\"soeharto\" in preseiden_era_reformasi"
      ],
      "metadata": {
        "colab": {
          "base_uri": "https://localhost:8080/"
        },
        "id": "siSN2wq7Tok3",
        "outputId": "55483db3-5b63-4231-e3c8-45dbae5e4490"
      },
      "execution_count": null,
      "outputs": [
        {
          "output_type": "execute_result",
          "data": {
            "text/plain": [
              "False"
            ]
          },
          "metadata": {},
          "execution_count": 25
        }
      ]
    },
    {
      "cell_type": "code",
      "source": [
        "for presiden in preseiden_era_reformasi:\n",
        "  print(presiden)\n",
        "  if presiden == \"megawati\":\n",
        "    print(\"cantik\")"
      ],
      "metadata": {
        "colab": {
          "base_uri": "https://localhost:8080/"
        },
        "id": "2nKOl_TpTwU8",
        "outputId": "6f672a8f-92a7-4174-e607-1154ab2ef1a4"
      },
      "execution_count": null,
      "outputs": [
        {
          "output_type": "stream",
          "name": "stdout",
          "text": [
            "habibi\n",
            "megawati\n",
            "cantik\n",
            "abdurrahman wahid\n",
            "susilo bambang yudhoyono\n",
            "jokowi\n"
          ]
        }
      ]
    },
    {
      "cell_type": "code",
      "source": [
        "sorted(preseiden_era_reformasi)"
      ],
      "metadata": {
        "colab": {
          "base_uri": "https://localhost:8080/"
        },
        "id": "v7s1DMavEcml",
        "outputId": "2586a28d-7b80-4cf5-9a84-7e3667e713d9"
      },
      "execution_count": null,
      "outputs": [
        {
          "output_type": "execute_result",
          "data": {
            "text/plain": [
              "['abdurrahman wahid',\n",
              " 'habibi',\n",
              " 'jokowi',\n",
              " 'megawati',\n",
              " 'susilo bambang yudhoyono']"
            ]
          },
          "metadata": {},
          "execution_count": 27
        }
      ]
    },
    {
      "cell_type": "markdown",
      "source": [
        "### Dictionary in Python\n",
        "\n",
        "Struktur data yang menyerupai loker penyimpanan, setiap kotak diloker dapat diisi apapun tergantung kunci/penamaan yang digunakan (key and value). Tipe data ini sering digunakan untuk membuat tabel seperti tabel excel (kolom dan baris)\n",
        "\n",
        "<img src=\"https://pynative.com/wp-content/uploads/2021/02/dictionaries-in-python.jpg\">"
      ],
      "metadata": {
        "id": "I4tIX6FdT_Ij"
      }
    },
    {
      "cell_type": "code",
      "execution_count": null,
      "metadata": {
        "colab": {
          "base_uri": "https://localhost:8080/"
        },
        "id": "GssgF_XFflRc",
        "outputId": "9e6425ec-6d57-43dd-ba51-a970dc452c67"
      },
      "outputs": [
        {
          "output_type": "stream",
          "name": "stdout",
          "text": [
            "{'nama': 'Rois', 'pekerjaan': 'Data engineer', 'tinggi': 172}\n",
            "Rois\n"
          ]
        }
      ],
      "source": [
        "profil = {\n",
        "  \"nama\": \"Rois\",\n",
        "  \"pekerjaan\": \"Data engineer\",\n",
        "  \"tinggi\": 172\n",
        "}\n",
        "print(profil)\n",
        "print(profil[\"nama\"])"
      ]
    },
    {
      "cell_type": "code",
      "source": [
        "profil[\"tinggal\"] = \"Sukamiskin\"\n",
        "print(profil)"
      ],
      "metadata": {
        "colab": {
          "base_uri": "https://localhost:8080/"
        },
        "id": "qARDqKiig-cN",
        "outputId": "791395ca-fc12-424b-8de3-4c07df00da2f"
      },
      "execution_count": null,
      "outputs": [
        {
          "output_type": "stream",
          "name": "stdout",
          "text": [
            "{'nama': 'Rois', 'pekerjaan': 'Data engineer', 'tinggi': 172, 'tinggal': 'Sukamiskin'}\n"
          ]
        }
      ]
    },
    {
      "cell_type": "code",
      "source": [
        "profil[\"nama\"] = \"Sukakaya\"\n",
        "print(profil)"
      ],
      "metadata": {
        "colab": {
          "base_uri": "https://localhost:8080/"
        },
        "id": "euQkWjFgj9QE",
        "outputId": "bcb606ed-d816-463c-a8b4-3aeb4aaf280f"
      },
      "execution_count": null,
      "outputs": [
        {
          "output_type": "stream",
          "name": "stdout",
          "text": [
            "{'nama': 'Sukakaya', 'pekerjaan': 'Data engineer', 'tinggi': 172, 'tinggal': 'Sukamiskin'}\n"
          ]
        }
      ]
    },
    {
      "cell_type": "code",
      "source": [
        "for x in profil.values():\n",
        "  print(x)"
      ],
      "metadata": {
        "colab": {
          "base_uri": "https://localhost:8080/"
        },
        "id": "j0eOl4rUm33n",
        "outputId": "357ef685-310e-4050-c70c-a6adef847bc4"
      },
      "execution_count": null,
      "outputs": [
        {
          "output_type": "stream",
          "name": "stdout",
          "text": [
            "Sukakaya\n",
            "Data engineer\n",
            "172\n",
            "Sukamiskin\n"
          ]
        }
      ]
    },
    {
      "cell_type": "code",
      "source": [
        "for x in profil.keys():\n",
        "  print(x)"
      ],
      "metadata": {
        "colab": {
          "base_uri": "https://localhost:8080/"
        },
        "id": "LWTiIWm_qGqL",
        "outputId": "60da4760-5130-4a3a-c1ad-064e95a85731"
      },
      "execution_count": null,
      "outputs": [
        {
          "output_type": "stream",
          "name": "stdout",
          "text": [
            "nama\n",
            "pekerjaan\n",
            "tinggi\n",
            "tinggal\n"
          ]
        }
      ]
    },
    {
      "cell_type": "code",
      "source": [
        "for x, y in profil.items():\n",
        "  print(\"ini key:\",x, \"ini value:\", y)"
      ],
      "metadata": {
        "colab": {
          "base_uri": "https://localhost:8080/"
        },
        "id": "SJh677jmqkou",
        "outputId": "04e49555-0e12-4178-ac61-2466c73d9530"
      },
      "execution_count": null,
      "outputs": [
        {
          "output_type": "stream",
          "name": "stdout",
          "text": [
            "ini key: nama ini value: Sukakaya\n",
            "ini key: pekerjaan ini value: Data engineer\n",
            "ini key: tinggi ini value: 172\n",
            "ini key: tinggal ini value: Sukamiskin\n"
          ]
        }
      ]
    },
    {
      "cell_type": "code",
      "source": [
        "for telentang, tengkurep in profil.items():\n",
        "  print(\"ini key:\",telentang, \"ini value:\", tengkurep)"
      ],
      "metadata": {
        "colab": {
          "base_uri": "https://localhost:8080/"
        },
        "id": "wjBVWdY3ru25",
        "outputId": "fb79f5fe-678c-47f8-ac7b-2ccac176b583"
      },
      "execution_count": null,
      "outputs": [
        {
          "output_type": "stream",
          "name": "stdout",
          "text": [
            "ini key: nama ini value: Sukakaya\n",
            "ini key: pekerjaan ini value: Data engineer\n",
            "ini key: tinggi ini value: 172\n",
            "ini key: tinggal ini value: Sukamiskin\n"
          ]
        }
      ]
    },
    {
      "cell_type": "code",
      "source": [
        "profil['skills'] = [\"python\", \"mengolah data\", \"google cloud platform\"]\n",
        "print(profil)"
      ],
      "metadata": {
        "colab": {
          "base_uri": "https://localhost:8080/"
        },
        "id": "HU3gCRZ4UYnE",
        "outputId": "c5824563-f99a-46c2-ad23-7fea66ceeec6"
      },
      "execution_count": null,
      "outputs": [
        {
          "output_type": "stream",
          "name": "stdout",
          "text": [
            "{'nama': 'Sukakaya', 'pekerjaan': 'Data engineer', 'tinggi': 172, 'tinggal': 'Sukamiskin', 'skills': ['python', 'mengolah data', 'google cloud platform']}\n"
          ]
        }
      ]
    },
    {
      "cell_type": "code",
      "source": [
        "profil[\"skills\"].append(\"memasak\")\n",
        "print(profil)"
      ],
      "metadata": {
        "colab": {
          "base_uri": "https://localhost:8080/"
        },
        "id": "d0DxToiuUnYg",
        "outputId": "cce59f30-0277-4aac-96da-080355e465c9"
      },
      "execution_count": null,
      "outputs": [
        {
          "output_type": "stream",
          "name": "stdout",
          "text": [
            "{'nama': 'Sukakaya', 'pekerjaan': 'Data engineer', 'tinggi': 172, 'tinggal': 'Sukamiskin', 'skills': ['python', 'mengolah data', 'google cloud platform', 'memasak']}\n"
          ]
        }
      ]
    },
    {
      "cell_type": "code",
      "source": [
        "for i in profil['skills']:\n",
        "  print(i)"
      ],
      "metadata": {
        "colab": {
          "base_uri": "https://localhost:8080/"
        },
        "id": "44-MXQjiFbp2",
        "outputId": "f799a747-f588-4abc-ba49-127d3c76f65f"
      },
      "execution_count": null,
      "outputs": [
        {
          "output_type": "stream",
          "name": "stdout",
          "text": [
            "python\n",
            "mengolah data\n",
            "google cloud platform\n",
            "memasak\n"
          ]
        }
      ]
    }
  ]
}